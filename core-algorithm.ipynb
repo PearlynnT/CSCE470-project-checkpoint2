{
 "cells": [
  {
   "cell_type": "markdown",
   "metadata": {},
   "source": [
    "# CSCE 470 Project Checkpoint 2 Core Algorithm"
   ]
  },
  {
   "cell_type": "markdown",
   "metadata": {},
   "source": [
    "## Import Packages"
   ]
  },
  {
   "cell_type": "code",
   "execution_count": 2,
   "metadata": {
    "vscode": {
     "languageId": "powershell"
    }
   },
   "outputs": [
    {
     "name": "stdout",
     "output_type": "stream",
     "text": [
      "Collecting textblob\n",
      "  Obtaining dependency information for textblob from https://files.pythonhosted.org/packages/02/07/5fd2945356dd839974d3a25de8a142dc37293c21315729a41e775b5f3569/textblob-0.18.0.post0-py3-none-any.whl.metadata\n",
      "  Downloading textblob-0.18.0.post0-py3-none-any.whl.metadata (4.5 kB)\n",
      "Requirement already satisfied: nltk>=3.8 in /Users/pearlynn/anaconda3/lib/python3.11/site-packages (from textblob) (3.8.1)\n",
      "Requirement already satisfied: click in /Users/pearlynn/anaconda3/lib/python3.11/site-packages (from nltk>=3.8->textblob) (8.0.4)\n",
      "Requirement already satisfied: joblib in /Users/pearlynn/anaconda3/lib/python3.11/site-packages (from nltk>=3.8->textblob) (1.2.0)\n",
      "Requirement already satisfied: regex>=2021.8.3 in /Users/pearlynn/anaconda3/lib/python3.11/site-packages (from nltk>=3.8->textblob) (2022.7.9)\n",
      "Requirement already satisfied: tqdm in /Users/pearlynn/anaconda3/lib/python3.11/site-packages (from nltk>=3.8->textblob) (4.65.0)\n",
      "Downloading textblob-0.18.0.post0-py3-none-any.whl (626 kB)\n",
      "\u001b[2K   \u001b[90m━━━━━━━━━━━━━━━━━━━━━━━━━━━━━━━━━━━━━━━━\u001b[0m \u001b[32m626.3/626.3 kB\u001b[0m \u001b[31m12.7 MB/s\u001b[0m eta \u001b[36m0:00:00\u001b[0ma \u001b[36m0:00:01\u001b[0m\n",
      "\u001b[?25hInstalling collected packages: textblob\n",
      "Successfully installed textblob-0.18.0.post0\n"
     ]
    }
   ],
   "source": [
    "!pip install textblob"
   ]
  },
  {
   "cell_type": "code",
   "execution_count": 62,
   "metadata": {},
   "outputs": [],
   "source": [
    "import re\n",
    "import pandas as pd\n",
    "import requests\n",
    "import os\n",
    "import json\n",
    "from sklearn.metrics.pairwise import cosine_similarity\n",
    "from sklearn.feature_extraction.text import TfidfVectorizer\n",
    "from textblob import TextBlob\n",
    "from dotenv import load_dotenv\n",
    "# from forex_python.converter import CurrencyRates\n",
    "\n",
    "load_dotenv()\n",
    "\n",
    "GOOGLE_PLACES_API_KEY = os.environ.get('GOOGLE_PLACES_API_KEY')\n",
    "EXCHANGE_RATE_API_KEY = os.environ.get('EXCHANGE_RATE_API_KEY')"
   ]
  },
  {
   "cell_type": "markdown",
   "metadata": {},
   "source": [
    "## Authenticate with Amadeus"
   ]
  },
  {
   "cell_type": "code",
   "execution_count": 54,
   "metadata": {},
   "outputs": [
    {
     "name": "stdout",
     "output_type": "stream",
     "text": [
      "Successfully authenticated.\n"
     ]
    }
   ],
   "source": [
    "def get_amadeus_token(client_id, client_secret):\n",
    "    url = \"https://test.api.amadeus.com/v1/security/oauth2/token\"\n",
    "    headers = {'Content-Type': 'application/x-www-form-urlencoded'}\n",
    "    body = {\n",
    "        'grant_type': 'client_credentials',\n",
    "        'client_id': client_id,\n",
    "        'client_secret': client_secret\n",
    "    }\n",
    "    \n",
    "    response = requests.post(url, headers=headers, data=body)\n",
    "    \n",
    "    if response.status_code == 200:\n",
    "        token = response.json()['access_token']\n",
    "        print(\"Successfully authenticated.\")\n",
    "        return token\n",
    "    else:\n",
    "        print(f\"Error: {response.status_code}, {response.text}\")\n",
    "        return None\n",
    "\n",
    "client_id = os.environ.get('AMADEUS_CLIENT_ID')\n",
    "client_secret = os.environ.get('AMADEUS_CLIENT_SECRET')\n",
    "\n",
    "AMADEUS_TOKEN = get_amadeus_token(client_id, client_secret)"
   ]
  },
  {
   "cell_type": "markdown",
   "metadata": {},
   "source": [
    "## Currency Converter"
   ]
  },
  {
   "cell_type": "code",
   "execution_count": 49,
   "metadata": {},
   "outputs": [],
   "source": [
    "# def convert_currency(amount, base_currency, target_currency):\n",
    "#     currency_rates = CurrencyRates()\n",
    "#     converted_amount = currency_rates.convert(base_currency, target_currency, amount)\n",
    "#     return converted_amount"
   ]
  },
  {
   "cell_type": "code",
   "execution_count": 59,
   "metadata": {},
   "outputs": [],
   "source": [
    "def convert_currency(amount, base_currency, target_currency, api_key):\n",
    "    url = f\"https://v6.exchangerate-api.com/v6/{api_key}/pair/{base_currency}/{target_currency}/{amount}\"\n",
    "    response = requests.get(url)\n",
    "    if response.status_code == 200:\n",
    "        return response.json()['conversion_result']\n",
    "    return 0.0"
   ]
  },
  {
   "cell_type": "markdown",
   "metadata": {},
   "source": [
    "## Load Datasets"
   ]
  },
  {
   "cell_type": "markdown",
   "metadata": {},
   "source": [
    "`country_info_extracted_data.csv` contains four main columns:\n",
    "- Country: Name of the country.\n",
    "- Safety and Security: Descriptions of safety and security levels in each country.\n",
    "- Health: Information on health services, including emergency response availability.\n",
    "- Local Laws: Information on local laws and possible penalties."
   ]
  },
  {
   "cell_type": "code",
   "execution_count": 6,
   "metadata": {},
   "outputs": [
    {
     "data": {
      "text/html": [
       "<div>\n",
       "<style scoped>\n",
       "    .dataframe tbody tr th:only-of-type {\n",
       "        vertical-align: middle;\n",
       "    }\n",
       "\n",
       "    .dataframe tbody tr th {\n",
       "        vertical-align: top;\n",
       "    }\n",
       "\n",
       "    .dataframe thead th {\n",
       "        text-align: right;\n",
       "    }\n",
       "</style>\n",
       "<table border=\"1\" class=\"dataframe\">\n",
       "  <thead>\n",
       "    <tr style=\"text-align: right;\">\n",
       "      <th></th>\n",
       "      <th>Country</th>\n",
       "      <th>Safety and Security</th>\n",
       "      <th>Health</th>\n",
       "      <th>Local Laws</th>\n",
       "    </tr>\n",
       "  </thead>\n",
       "  <tbody>\n",
       "    <tr>\n",
       "      <th>0</th>\n",
       "      <td>Afghanistan</td>\n",
       "      <td>The security situation is extremely unstable a...</td>\n",
       "      <td>For emergency services in Afghanistan, dial 11...</td>\n",
       "      <td>Criminal Penalties: U.S. citizens in Afghanist...</td>\n",
       "    </tr>\n",
       "    <tr>\n",
       "      <th>1</th>\n",
       "      <td>Albania</td>\n",
       "      <td>Terrorism: Some terrorist groups and those ins...</td>\n",
       "      <td>For emergency services in Albania, dial 112 fo...</td>\n",
       "      <td>Criminal Penalties: You are subject to local l...</td>\n",
       "    </tr>\n",
       "    <tr>\n",
       "      <th>2</th>\n",
       "      <td>Algeria</td>\n",
       "      <td>Terrorism: Terrorist groups and individuals in...</td>\n",
       "      <td>For emergency services in Algeria, dial 021711...</td>\n",
       "      <td>Criminal Penalties: You are subject to local l...</td>\n",
       "    </tr>\n",
       "    <tr>\n",
       "      <th>3</th>\n",
       "      <td>Andorra</td>\n",
       "      <td>Terrorism: Terrorist groups and those inspired...</td>\n",
       "      <td>Good medical care is available in Andorra. Reg...</td>\n",
       "      <td>Criminal Penalties: You are subject to local l...</td>\n",
       "    </tr>\n",
       "    <tr>\n",
       "      <th>4</th>\n",
       "      <td>Angola</td>\n",
       "      <td>Both spontaneous and planned civil disturbance...</td>\n",
       "      <td>Medical facilities and services, including eme...</td>\n",
       "      <td>Criminal Penalties: You are subject to local l...</td>\n",
       "    </tr>\n",
       "  </tbody>\n",
       "</table>\n",
       "</div>"
      ],
      "text/plain": [
       "       Country                                Safety and Security  \\\n",
       "0  Afghanistan  The security situation is extremely unstable a...   \n",
       "1      Albania  Terrorism: Some terrorist groups and those ins...   \n",
       "2      Algeria  Terrorism: Terrorist groups and individuals in...   \n",
       "3      Andorra  Terrorism: Terrorist groups and those inspired...   \n",
       "4       Angola  Both spontaneous and planned civil disturbance...   \n",
       "\n",
       "                                              Health  \\\n",
       "0  For emergency services in Afghanistan, dial 11...   \n",
       "1  For emergency services in Albania, dial 112 fo...   \n",
       "2  For emergency services in Algeria, dial 021711...   \n",
       "3  Good medical care is available in Andorra. Reg...   \n",
       "4  Medical facilities and services, including eme...   \n",
       "\n",
       "                                          Local Laws  \n",
       "0  Criminal Penalties: U.S. citizens in Afghanist...  \n",
       "1  Criminal Penalties: You are subject to local l...  \n",
       "2  Criminal Penalties: You are subject to local l...  \n",
       "3  Criminal Penalties: You are subject to local l...  \n",
       "4  Criminal Penalties: You are subject to local l...  "
      ]
     },
     "execution_count": 6,
     "metadata": {},
     "output_type": "execute_result"
    }
   ],
   "source": [
    "country_data = pd.read_csv('country_info_extracted_data.csv')\n",
    "country_data.head()"
   ]
  },
  {
   "cell_type": "markdown",
   "metadata": {},
   "source": [
    "`advisory_extracted_data.csv` contains two main columns:\n",
    "- Country: Name of the country.\n",
    "- Advisory Level: A rating given to a country that indicates the relative risk of travel to that country."
   ]
  },
  {
   "cell_type": "code",
   "execution_count": 7,
   "metadata": {},
   "outputs": [
    {
     "data": {
      "text/html": [
       "<div>\n",
       "<style scoped>\n",
       "    .dataframe tbody tr th:only-of-type {\n",
       "        vertical-align: middle;\n",
       "    }\n",
       "\n",
       "    .dataframe tbody tr th {\n",
       "        vertical-align: top;\n",
       "    }\n",
       "\n",
       "    .dataframe thead th {\n",
       "        text-align: right;\n",
       "    }\n",
       "</style>\n",
       "<table border=\"1\" class=\"dataframe\">\n",
       "  <thead>\n",
       "    <tr style=\"text-align: right;\">\n",
       "      <th></th>\n",
       "      <th>Country</th>\n",
       "      <th>Advisory Level</th>\n",
       "    </tr>\n",
       "  </thead>\n",
       "  <tbody>\n",
       "    <tr>\n",
       "      <th>0</th>\n",
       "      <td>Turkey</td>\n",
       "      <td>Level 2: Exercise Increased Caution</td>\n",
       "    </tr>\n",
       "    <tr>\n",
       "      <th>1</th>\n",
       "      <td>The Gambia</td>\n",
       "      <td>Level 2: Exercise Increased Caution</td>\n",
       "    </tr>\n",
       "    <tr>\n",
       "      <th>2</th>\n",
       "      <td>Egypt</td>\n",
       "      <td>Level 3: Reconsider Travel</td>\n",
       "    </tr>\n",
       "    <tr>\n",
       "      <th>3</th>\n",
       "      <td>Canada</td>\n",
       "      <td>Level 1: Exercise Normal Precautions</td>\n",
       "    </tr>\n",
       "    <tr>\n",
       "      <th>4</th>\n",
       "      <td>Rwanda</td>\n",
       "      <td>Level 3: Reconsider Travel</td>\n",
       "    </tr>\n",
       "  </tbody>\n",
       "</table>\n",
       "</div>"
      ],
      "text/plain": [
       "      Country                        Advisory Level\n",
       "0      Turkey   Level 2: Exercise Increased Caution\n",
       "1  The Gambia   Level 2: Exercise Increased Caution\n",
       "2       Egypt            Level 3: Reconsider Travel\n",
       "3      Canada  Level 1: Exercise Normal Precautions\n",
       "4      Rwanda            Level 3: Reconsider Travel"
      ]
     },
     "execution_count": 7,
     "metadata": {},
     "output_type": "execute_result"
    }
   ],
   "source": [
    "advisory_data = pd.read_csv('advisory_extracted_data.csv')\n",
    "advisory_data.head()"
   ]
  },
  {
   "cell_type": "markdown",
   "metadata": {},
   "source": [
    "## Preference Match"
   ]
  },
  {
   "cell_type": "code",
   "execution_count": 8,
   "metadata": {},
   "outputs": [],
   "source": [
    "def get_google_places_data(location, api_key, place_type=\"tourist attraction\"):\n",
    "    \"\"\"Fetch places from Google Places API for a specific location and place type.\"\"\"\n",
    "    url = f\"https://maps.googleapis.com/maps/api/place/textsearch/json?query={place_type}+in+{location}&key={api_key}\"\n",
    "    response = requests.get(url)\n",
    "    if response.status_code == 200:\n",
    "        return response.json()['results']\n",
    "    return []"
   ]
  },
  {
   "cell_type": "code",
   "execution_count": 9,
   "metadata": {},
   "outputs": [],
   "source": [
    "def get_google_reviews(place_id, api_key):\n",
    "    \"\"\"Retrieve user reviews for a specific place using its place_id.\"\"\"\n",
    "    url = f\"https://maps.googleapis.com/maps/api/place/details/json?place_id={place_id}&fields=reviews&key={api_key}\"\n",
    "    response = requests.get(url)\n",
    "    if response.status_code == 200:\n",
    "        return response.json().get('result', {}).get('reviews', [])\n",
    "    return []"
   ]
  },
  {
   "cell_type": "code",
   "execution_count": null,
   "metadata": {},
   "outputs": [],
   "source": [
    "# def calculate_preference_match(user_preferences, google_data, api_key):\n",
    "#     \"\"\"\n",
    "#     Calculate preference match score using reviews based on user preferences.\n",
    "#     User preferences contain keywords like 'adventure', 'culture', etc.\n",
    "#     \"\"\"\n",
    "#     total_score = 0\n",
    "#     count = 0\n",
    "#     for place in google_data:\n",
    "#         place_id = place.get('place_id')\n",
    "#         reviews = get_google_reviews(place_id, api_key)\n",
    "\n",
    "#         for review in reviews:\n",
    "#             review_text = review.get('text', '').lower()\n",
    "#             review_sentiment = TextBlob(review_text).sentiment.polarity  # Sentiment range from -1 to 1\n",
    "            \n",
    "#             # Check for keyword relevance\n",
    "#             keyword_matches = sum(1 for keyword in user_preferences[\"activities\"] if keyword in review_text)\n",
    "            \n",
    "#             # Score weighted by keyword relevance and sentiment\n",
    "#             if keyword_matches > 0:\n",
    "#                 review_score = (review_sentiment + 1) * keyword_matches * 10  # Scale sentiment for 0-20 score per match\n",
    "#                 total_score += review_score\n",
    "#                 count += 1\n",
    "\n",
    "#     # Normalize to a score out of 100\n",
    "#     preference_match_score = (total_score / count) if count > 0 else 0\n",
    "#     return min(100, preference_match_score)  # Cap score at 100"
   ]
  },
  {
   "cell_type": "code",
   "execution_count": 20,
   "metadata": {},
   "outputs": [],
   "source": [
    "# Calculate preference match using Cosine Similarity\n",
    "\n",
    "def calculate_preference_match(user_preferences, google_data, api_key):\n",
    "    \"\"\"\n",
    "    Calculate preference match score using cosine similarity on reviews based on user preferences.\n",
    "    User preferences contain keywords like 'adventure', 'culture', etc.\n",
    "    \"\"\"\n",
    "    # Define user preferences as a single string for vectorization\n",
    "    user_pref_text = \" \".join(user_preferences.split()).lower()\n",
    "    \n",
    "    # Initialize total score and review count\n",
    "    total_score = 0\n",
    "    count = 0\n",
    "\n",
    "    # Vectorizer to create keyword presence vectors for cosine similarity\n",
    "    vectorizer = TfidfVectorizer().fit([user_pref_text])\n",
    "    user_pref_vector = vectorizer.transform([user_pref_text]).toarray()\n",
    "\n",
    "    for place in google_data:\n",
    "        place_id = place.get('place_id')\n",
    "        reviews = get_google_reviews(place_id, api_key)\n",
    "        \n",
    "        for review in reviews:\n",
    "            review_text = review.get('text', '').lower()\n",
    "            review_sentiment = TextBlob(review_text).sentiment.polarity  # Sentiment range from -1 to 1\n",
    "\n",
    "            # Transform review into vector space using the same vectorizer\n",
    "            review_vector = vectorizer.transform([review_text]).toarray()\n",
    "            \n",
    "            # Calculate cosine similarity between user preferences and review text\n",
    "            similarity = cosine_similarity(user_pref_vector, review_vector)[0][0]\n",
    "            \n",
    "            # Weight similarity by sentiment to emphasize positive reviews\n",
    "            weighted_similarity_score = similarity * (review_sentiment + 1)  # Scale sentiment\n",
    "\n",
    "            # Accumulate the weighted similarity score\n",
    "            if similarity > 0:  # Only consider relevant reviews with similarity > 0\n",
    "                total_score += weighted_similarity_score * 100  # Scale up for clarity\n",
    "                count += 1\n",
    "\n",
    "    # Average and cap the preference match score to 0-100\n",
    "    preference_match_score = (total_score / count) if count > 0 else 0\n",
    "    return min(100, preference_match_score)"
   ]
  },
  {
   "cell_type": "markdown",
   "metadata": {},
   "source": [
    "## Safety Score"
   ]
  },
  {
   "cell_type": "markdown",
   "metadata": {},
   "source": [
    "To create a safety score for solo travelers:\n",
    "1. Analyze Safety Descriptions: Assign scores based on keywords like \"unstable,\" \"terrorism,\" or \"civil disturbance,\" where more concerning keywords reduce the score.\n",
    "2. Health Services: Factor in whether emergency health services are mentioned. Limited or no emergency services would reduce the score.\n",
    "3. Local Laws: Keywords suggesting stricter local laws or heightened penalties could slightly impact the score for travelers."
   ]
  },
  {
   "cell_type": "code",
   "execution_count": null,
   "metadata": {},
   "outputs": [],
   "source": [
    "# def calculate_safety_score(row):\n",
    "#     # Initial score\n",
    "#     score = 100  # Start with 100 (safer)\n",
    "\n",
    "#     # Analyze \"Safety and Security\" descriptions\n",
    "#     safety_text = row['Safety and Security'].lower()\n",
    "#     if re.search(r\"unstable|civil disturbance|violent|high crime|terrorism|unsafe\", safety_text):\n",
    "#         score -= 30  # Major safety concerns reduce score more heavily\n",
    "#     elif re.search(r\"low crime|safe|stable\", safety_text):\n",
    "#         score += 10  # Positive safety indicators increase score slightly\n",
    "\n",
    "#     # Analyze \"Health\" descriptions\n",
    "#     health_text = row['Health'].lower()\n",
    "#     if re.search(r\"limited|no emergency services|poor medical care\", health_text):\n",
    "#         score -= 20  # Lack of emergency services is a negative indicator\n",
    "#     elif re.search(r\"good medical care|emergency services available\", health_text):\n",
    "#         score += 10  # Availability of health services is a positive indicator\n",
    "\n",
    "#     # Analyze \"Local Laws\" descriptions\n",
    "#     laws_text = row['Local Laws'].lower()\n",
    "#     if re.search(r\"strict|harsh penalties|unpredictable\", laws_text):\n",
    "#         score -= 10  # Strict or harsh laws slightly decrease score for travelers\n",
    "#     elif re.search(r\"standard|clear guidelines|tourist friendly\", laws_text):\n",
    "#         score += 5  # Positive legal environment indicator\n",
    "\n",
    "#     # Ensure the score is within the range 0 to 100\n",
    "#     return max(0, min(100, score))"
   ]
  },
  {
   "cell_type": "code",
   "execution_count": null,
   "metadata": {},
   "outputs": [],
   "source": [
    "# # Apply the scoring function to each row\n",
    "# country_data['Safety Score'] = country_data.apply(calculate_safety_score, axis=1)\n",
    "\n",
    "# # Display a preview of the data with the new Safety Score column\n",
    "# country_data[['Country', 'Safety Score']].head()"
   ]
  },
  {
   "cell_type": "code",
   "execution_count": null,
   "metadata": {},
   "outputs": [],
   "source": [
    "# # Save data with new Safety Score column to CSV\n",
    "# country_data.to_csv('country_safety_score_data.csv', index=False)"
   ]
  },
  {
   "cell_type": "code",
   "execution_count": 11,
   "metadata": {},
   "outputs": [],
   "source": [
    "# Calculate Safety Score with Sentiment Analysis\n",
    "def calculate_safety_score(row):\n",
    "    \"\"\"Analyze safety sentiment and return a score based on safety description.\"\"\"\n",
    "    safety_text = row['Safety and Security']\n",
    "    blob = TextBlob(safety_text)\n",
    "    sentiment = blob.sentiment.polarity  # Range from -1 (negative) to 1 (positive)\n",
    "    base_score = 100 + (sentiment * 50)  # Center at 100, modify by sentiment\n",
    "    return max(0, min(100, base_score))"
   ]
  },
  {
   "cell_type": "markdown",
   "metadata": {},
   "source": [
    "## Budget Fit"
   ]
  },
  {
   "cell_type": "code",
   "execution_count": 42,
   "metadata": {},
   "outputs": [],
   "source": [
    "def get_amadeus_hotel_data(latitude, longitude, token):\n",
    "    \"\"\"Fetch hotel data from Amadeus API for a specific location.\"\"\"\n",
    "    url = f\"https://test.api.amadeus.com/v1/reference-data/locations/hotels/by-geocode?latitude={latitude}&longitude={longitude}\"\n",
    "    headers = {'Authorization': f'Bearer {token}'}\n",
    "    response = requests.get(url, headers=headers)\n",
    "    if response.status_code == 200:\n",
    "        return [hotel['hotelId'] for hotel in response.json()['data'][:20]]\n",
    "    else:\n",
    "        print(f\"Error fetching hotel data: {response.status_code}, {response.text}\")\n",
    "        return []"
   ]
  },
  {
   "cell_type": "code",
   "execution_count": 63,
   "metadata": {},
   "outputs": [],
   "source": [
    "def get_hotel_prices(hotel_ids, token):\n",
    "    \"\"\"Retrieve hotel prices for a list of hotels using their hotel_ids.\"\"\"\n",
    "    url = f\"https://test.api.amadeus.com/v3/shopping/hotel-offers?hotelIds={hotel_ids}\"\n",
    "    headers = {'Authorization': f'Bearer {token}'}\n",
    "    response = requests.get(url, headers=headers)\n",
    "    if response.status_code == 200:\n",
    "        # Extracting the base price for each hotel\n",
    "        base_prices = []\n",
    "        for hotel_offer in response.json()['data']:\n",
    "            if 'offers' in hotel_offer:\n",
    "                for offer in hotel_offer['offers']:\n",
    "                    if 'base' in offer['price']:\n",
    "                        base_price = offer['price']['base']  # Accessing the base price\n",
    "                        base_prices.append(base_price)\n",
    "#         currency = response.json()['data'][0]['offers'][0]['price']['currency']\n",
    "        return base_prices\n",
    "    else:\n",
    "        print(f\"Error fetching hotel prices: {response.status_code}, {response.text}\")\n",
    "        return []"
   ]
  },
  {
   "cell_type": "code",
   "execution_count": 64,
   "metadata": {},
   "outputs": [],
   "source": [
    "def calculate_budget_fit(hotel_ids, user_budget, token):\n",
    "    \"\"\"Compare the user's budget with average hotel costs.\"\"\"\n",
    "    prices = get_hotel_prices(hotel_ids, token)\n",
    "\n",
    "    budget_fit_score = 0\n",
    "    # converted_user_budget = convert_currency(user_budget, 'USD', currency, EXCHANGE_RATE_API_KEY)\n",
    "    if prices:\n",
    "        avg_cost = sum(float(price) for price in prices) / len(prices)\n",
    "        budget_fit_score = max(0, min(100, (user_budget / avg_cost) * 100))  # Normalize to 100\n",
    "    return budget_fit_score"
   ]
  },
  {
   "cell_type": "markdown",
   "metadata": {},
   "source": [
    "## Social Score"
   ]
  },
  {
   "cell_type": "code",
   "execution_count": 15,
   "metadata": {},
   "outputs": [],
   "source": [
    "def calculate_social_score(places):\n",
    "    \"\"\"\n",
    "    Calculate a social score based on Google Places ratings and user ratings count.\n",
    "    The higher the rating and number of ratings, the higher the social score.\n",
    "    \"\"\"\n",
    "    total_score = 0\n",
    "    count = 0\n",
    "    for place in places:\n",
    "        rating = place.get('rating', 0)\n",
    "        user_ratings_total = place.get('user_ratings_total', 0)\n",
    "\n",
    "        # Score contribution from rating and popularity (user ratings count)\n",
    "        place_social_score = rating * (user_ratings_total / 10)  # Scale by count\n",
    "\n",
    "        # Normalize to cap each place's impact, then add to total\n",
    "        total_score += min(place_social_score, 100)  # Cap score to prevent outliers\n",
    "        count += 1\n",
    "\n",
    "    # Normalize to 0-100 if places are found, else return 0\n",
    "    return min(100, (total_score / count) if count > 0 else 0)"
   ]
  },
  {
   "cell_type": "markdown",
   "metadata": {},
   "source": [
    "## Rank Destinations"
   ]
  },
  {
   "cell_type": "code",
   "execution_count": 69,
   "metadata": {},
   "outputs": [],
   "source": [
    "# Multi-Criteria Scoring\n",
    "def rank_destinations(user_preferences, countries, coordinates, currencies, google_api_key, amadeus_api_key, weights):\n",
    "    \"\"\"\n",
    "    Rank destinations based on weighted criteria using user preferences.\n",
    "    weights = (preference_weight, safety_weight, social_weight, budget_weight)\n",
    "    \"\"\"\n",
    "    ranked_destinations = []\n",
    "    for country, coordinate, currency in zip(countries, coordinates, currencies):\n",
    "        row = country_data[country_data['Country'] == country].iloc[0]\n",
    "\n",
    "        # Get data from Google Places for the country\n",
    "        google_data = get_google_places_data(country, google_api_key)\n",
    "\n",
    "        # Get data from Amadeus\n",
    "        amadeus_data = get_amadeus_hotel_data(coordinate[0], coordinate[1], amadeus_api_key)\n",
    "        \n",
    "        # Calculate individual scores\n",
    "        pref_match_score = calculate_preference_match(user_preferences[\"activities\"], google_data, google_api_key)\n",
    "        safety_score = calculate_safety_score(row)\n",
    "        user_budget = convert_currency(user_preferences[\"budget\"], 'USD', currency, EXCHANGE_RATE_API_KEY)\n",
    "        budget_fit_score = calculate_budget_fit(amadeus_data, user_budget, amadeus_api_key)\n",
    "        social_score = calculate_social_score(google_data)\n",
    "\n",
    "        # Compute final score using the weighted criteria\n",
    "        final_score = (\n",
    "            weights[0] * pref_match_score +\n",
    "            weights[1] * safety_score +\n",
    "            weights[2] * social_score +\n",
    "            weights[3] * budget_fit_score\n",
    "        ) / sum(weights)  # Normalize by total weight\n",
    "\n",
    "        ranked_destinations.append((country, final_score, {\n",
    "            \"Preference Match Score\": pref_match_score,\n",
    "            \"Safety Score\": safety_score,\n",
    "            \"Social Score\": social_score,\n",
    "            \"Budget Fit Score\": budget_fit_score\n",
    "        }))\n",
    "\n",
    "    # Sort by final score, descending\n",
    "    ranked_destinations.sort(key=lambda x: x[1], reverse=True)\n",
    "    return ranked_destinations"
   ]
  },
  {
   "cell_type": "code",
   "execution_count": 70,
   "metadata": {},
   "outputs": [
    {
     "name": "stdout",
     "output_type": "stream",
     "text": [
      "SGD\n",
      "JPY\n",
      "THB\n",
      "Singapore: Final Score 84.91287033915717\n",
      "Details: {'Preference Match Score': 72.80591008212713, 'Safety Score': 100, 'Social Score': 99.171, 'Budget Fit Score': 59.56306306306306}\n",
      "Thailand: Final Score 83.2077323914423\n",
      "Details: {'Preference Match Score': 76.14483097860571, 'Safety Score': 100, 'Social Score': 63.749000000000024, 'Budget Fit Score': 100}\n",
      "Japan: Final Score 81.00913810099337\n",
      "Details: {'Preference Match Score': 73.45470015735285, 'Safety Score': 100, 'Social Score': 90.97, 'Budget Fit Score': 34.332580380522124}\n"
     ]
    }
   ],
   "source": [
    "# Usage example:\n",
    "user_preferences = {\n",
    "    \"activities\": \"adventure culture relaxation\",\n",
    "    \"budget\": 200, # currently budget for one night hotel\n",
    "    \"safety\": \"medium\",\n",
    "    \"social_level\": \"medium\",\n",
    "    \"trip_duration\": 7\n",
    "}\n",
    "\n",
    "# Define user weighting for each criterion\n",
    "weights = (0.4, 0.3, 0.2, 0.1)  # Example weights for Preference Match, Safety, Social, Budget\n",
    "\n",
    "# List of country names to evaluate\n",
    "countries = [\"Singapore\", \"Japan\", \"Thailand\"]\n",
    "# Coordinates of the countries\n",
    "coordinates = [[\"1.352100\", \"103.819800\"], [\"35.6764\", \"139.6500\"], [\"13.7563\", \"100.5018\"]]\n",
    "# Currency of the countries\n",
    "currencies = [\"SGD\", \"JPY\", \"THB\"]\n",
    "\n",
    "# Rank the destinations\n",
    "ranked_results = rank_destinations(user_preferences, countries, coordinates, currencies, GOOGLE_PLACES_API_KEY, AMADEUS_TOKEN, weights)\n",
    "\n",
    "# Display ranked results\n",
    "for destination in ranked_results:\n",
    "    print(f\"{destination[0]}: Final Score {destination[1]}\")\n",
    "    print(\"Details:\", destination[2])\n"
   ]
  },
  {
   "cell_type": "code",
   "execution_count": null,
   "metadata": {},
   "outputs": [],
   "source": []
  }
 ],
 "metadata": {
  "kernelspec": {
   "display_name": "Python 3 (ipykernel)",
   "language": "python",
   "name": "python3"
  },
  "language_info": {
   "codemirror_mode": {
    "name": "ipython",
    "version": 3
   },
   "file_extension": ".py",
   "mimetype": "text/x-python",
   "name": "python",
   "nbconvert_exporter": "python",
   "pygments_lexer": "ipython3",
   "version": "3.11.5"
  }
 },
 "nbformat": 4,
 "nbformat_minor": 2
}
